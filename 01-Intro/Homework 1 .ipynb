{
 "cells": [
  {
   "cell_type": "code",
   "execution_count": 1,
   "id": "64e29290-5be8-4045-bd6e-89fd5541cf8e",
   "metadata": {},
   "outputs": [],
   "source": [
    "import pandas as pd"
   ]
  },
  {
   "cell_type": "code",
   "execution_count": 95,
   "id": "4bb32736-86de-4e4e-9fbe-6d20d934a2e0",
   "metadata": {},
   "outputs": [],
   "source": [
    "import numpy as np"
   ]
  },
  {
   "cell_type": "code",
   "execution_count": 34,
   "id": "78b9ea07-0466-4323-ba7c-4c0f751a9905",
   "metadata": {},
   "outputs": [],
   "source": [
    "df = pd.read_csv(\"https://raw.githubusercontent.com/alexeygrigorev/datasets/master/car_fuel_efficiency.csv\")"
   ]
  },
  {
   "cell_type": "markdown",
   "id": "2c43c367-b219-4f5f-9edb-668cbd0db8c3",
   "metadata": {},
   "source": [
    "## Question 1 "
   ]
  },
  {
   "cell_type": "code",
   "execution_count": 35,
   "id": "be22ee49-92f3-4eab-b469-6e5e55e6c0cc",
   "metadata": {},
   "outputs": [
    {
     "data": {
      "text/plain": [
       "'2.3.1'"
      ]
     },
     "execution_count": 35,
     "metadata": {},
     "output_type": "execute_result"
    }
   ],
   "source": [
    "pd.__version__"
   ]
  },
  {
   "cell_type": "markdown",
   "id": "95c6c69a-19c6-437a-ab69-c077b11c3d70",
   "metadata": {},
   "source": [
    "## Question 2"
   ]
  },
  {
   "cell_type": "code",
   "execution_count": 130,
   "id": "4d03747d-2c22-4dfd-95ac-5bed3ff67444",
   "metadata": {},
   "outputs": [
    {
     "data": {
      "text/plain": [
       "9704"
      ]
     },
     "execution_count": 130,
     "metadata": {},
     "output_type": "execute_result"
    }
   ],
   "source": [
    "len(df)"
   ]
  },
  {
   "cell_type": "code",
   "execution_count": 37,
   "id": "f4feefc4-0a41-4f86-b955-a5852171a037",
   "metadata": {},
   "outputs": [
    {
     "data": {
      "text/plain": [
       "106744"
      ]
     },
     "execution_count": 37,
     "metadata": {},
     "output_type": "execute_result"
    }
   ],
   "source": [
    "df.size"
   ]
  },
  {
   "cell_type": "markdown",
   "id": "50d09a29-e9d5-42cf-bf5c-c273e3d3be16",
   "metadata": {},
   "source": [
    "## Question 3 "
   ]
  },
  {
   "cell_type": "code",
   "execution_count": 38,
   "id": "c91f43bb-7ab4-4dab-878c-0b562b2e91f3",
   "metadata": {},
   "outputs": [
    {
     "data": {
      "text/plain": [
       "engine_displacement      36\n",
       "num_cylinders            14\n",
       "horsepower              192\n",
       "vehicle_weight         9704\n",
       "acceleration            162\n",
       "model_year               24\n",
       "origin                    3\n",
       "fuel_type                 2\n",
       "drivetrain                2\n",
       "num_doors                 9\n",
       "fuel_efficiency_mpg    9704\n",
       "dtype: int64"
      ]
     },
     "execution_count": 38,
     "metadata": {},
     "output_type": "execute_result"
    }
   ],
   "source": [
    "df.nunique()"
   ]
  },
  {
   "cell_type": "markdown",
   "id": "92766d58-8fba-4b5a-8373-cc801b684bb0",
   "metadata": {},
   "source": [
    "## Question 4 "
   ]
  },
  {
   "cell_type": "code",
   "execution_count": 39,
   "id": "b104c5a9-1bc0-452f-98b3-4e2b1651318d",
   "metadata": {
    "scrolled": true
   },
   "outputs": [
    {
     "data": {
      "text/plain": [
       "engine_displacement      0\n",
       "num_cylinders          482\n",
       "horsepower             708\n",
       "vehicle_weight           0\n",
       "acceleration           930\n",
       "model_year               0\n",
       "origin                   0\n",
       "fuel_type                0\n",
       "drivetrain               0\n",
       "num_doors              502\n",
       "fuel_efficiency_mpg      0\n",
       "dtype: int64"
      ]
     },
     "execution_count": 39,
     "metadata": {},
     "output_type": "execute_result"
    }
   ],
   "source": [
    "df.isnull().sum()"
   ]
  },
  {
   "cell_type": "markdown",
   "id": "758f879b-da43-4e1d-9750-740d06b4be6c",
   "metadata": {},
   "source": [
    "## Question 5"
   ]
  },
  {
   "cell_type": "code",
   "execution_count": 40,
   "id": "a90a9c19-c0fe-4b1b-8352-0886fa096b98",
   "metadata": {},
   "outputs": [
    {
     "data": {
      "text/plain": [
       "25.96722204888372"
      ]
     },
     "execution_count": 40,
     "metadata": {},
     "output_type": "execute_result"
    }
   ],
   "source": [
    "df.fuel_efficiency_mpg.max()"
   ]
  },
  {
   "cell_type": "markdown",
   "id": "d2b94828-ed2e-4072-a392-120fe9981ca2",
   "metadata": {},
   "source": [
    "## Question 6"
   ]
  },
  {
   "cell_type": "code",
   "execution_count": 41,
   "id": "7541021f-e06d-44c5-a20c-3cc89bc9cd85",
   "metadata": {},
   "outputs": [],
   "source": [
    "oldmedian = df.horsepower.median()"
   ]
  },
  {
   "cell_type": "code",
   "execution_count": 42,
   "id": "fde6b0d4-8a8b-4314-9636-7bf337b5b715",
   "metadata": {},
   "outputs": [
    {
     "data": {
      "text/plain": [
       "149.0"
      ]
     },
     "execution_count": 42,
     "metadata": {},
     "output_type": "execute_result"
    }
   ],
   "source": [
    "oldmedian"
   ]
  },
  {
   "cell_type": "code",
   "execution_count": 59,
   "id": "ece7b24a-b46b-4b18-9c34-a596981ee1d2",
   "metadata": {},
   "outputs": [],
   "source": [
    "frequent_val = df.horsepower.mode()"
   ]
  },
  {
   "cell_type": "code",
   "execution_count": 68,
   "id": "43234936-597a-41ad-a680-786181470121",
   "metadata": {},
   "outputs": [],
   "source": [
    "frequent_val = int(frequent_val[0])"
   ]
  },
  {
   "cell_type": "code",
   "execution_count": 45,
   "id": "215f7135-862a-49a7-bdad-cd6d08c2f865",
   "metadata": {},
   "outputs": [],
   "source": [
    "df['horsepower'] = df['horsepower'].fillna(frequent_val)"
   ]
  },
  {
   "cell_type": "code",
   "execution_count": 50,
   "id": "99ce76eb-87b5-4553-928b-e6945d852b8e",
   "metadata": {},
   "outputs": [
    {
     "data": {
      "text/plain": [
       "engine_displacement      0\n",
       "num_cylinders          482\n",
       "horsepower             708\n",
       "vehicle_weight           0\n",
       "acceleration           930\n",
       "model_year               0\n",
       "origin                   0\n",
       "fuel_type                0\n",
       "drivetrain               0\n",
       "num_doors              502\n",
       "fuel_efficiency_mpg      0\n",
       "dtype: int64"
      ]
     },
     "execution_count": 50,
     "metadata": {},
     "output_type": "execute_result"
    }
   ],
   "source": [
    "df.isna().sum()"
   ]
  },
  {
   "cell_type": "code",
   "execution_count": 70,
   "id": "be35877e-bd23-45b7-be28-d429eb2445d9",
   "metadata": {},
   "outputs": [],
   "source": [
    "df['horsepower'] = df['horsepower'].fillna(frequent_val)"
   ]
  },
  {
   "cell_type": "code",
   "execution_count": 71,
   "id": "b8462e0f-3967-44f2-b180-35595e7a3d05",
   "metadata": {},
   "outputs": [],
   "source": [
    "newmedian = df.horsepower.median()"
   ]
  },
  {
   "cell_type": "code",
   "execution_count": 72,
   "id": "c83f824f-3534-4872-9d43-7b13f2609718",
   "metadata": {},
   "outputs": [
    {
     "data": {
      "text/plain": [
       "152.0"
      ]
     },
     "execution_count": 72,
     "metadata": {},
     "output_type": "execute_result"
    }
   ],
   "source": [
    "newmedian"
   ]
  },
  {
   "cell_type": "markdown",
   "id": "6e448819-2c0e-4754-99e4-c2527caae904",
   "metadata": {},
   "source": [
    "## Question 7"
   ]
  },
  {
   "cell_type": "code",
   "execution_count": 115,
   "id": "91c6ddff-d57a-4da4-a8de-7c0184896c08",
   "metadata": {},
   "outputs": [],
   "source": [
    "X = df.loc[df['origin'] == 'Asia'][['vehicle_weight', 'model_year']].head(7).to_numpy()"
   ]
  },
  {
   "cell_type": "code",
   "execution_count": 116,
   "id": "6f6c1421-1d71-42ea-ac44-50f570613c66",
   "metadata": {},
   "outputs": [
    {
     "data": {
      "text/plain": [
       "array([[2714.21930965, 2016.        ],\n",
       "       [2783.86897424, 2010.        ],\n",
       "       [3582.68736772, 2007.        ],\n",
       "       [2231.8081416 , 2011.        ],\n",
       "       [2659.43145076, 2016.        ],\n",
       "       [2844.22753389, 2014.        ],\n",
       "       [3761.99403819, 2019.        ]])"
      ]
     },
     "execution_count": 116,
     "metadata": {},
     "output_type": "execute_result"
    }
   ],
   "source": [
    "X"
   ]
  },
  {
   "cell_type": "code",
   "execution_count": 117,
   "id": "6337682a-e1e3-4fee-81a9-0bfea2c7c3a6",
   "metadata": {},
   "outputs": [],
   "source": [
    "XT = X.T"
   ]
  },
  {
   "cell_type": "code",
   "execution_count": 121,
   "id": "c559de78-8c87-462b-8b2e-fdb2847258f7",
   "metadata": {
    "scrolled": true
   },
   "outputs": [],
   "source": [
    "XTX = np.dot(XT, X)"
   ]
  },
  {
   "cell_type": "code",
   "execution_count": 122,
   "id": "36a7fcbf-e034-4e09-95d6-4664ddacc0c6",
   "metadata": {
    "scrolled": true
   },
   "outputs": [
    {
     "data": {
      "text/plain": [
       "array([[62248334.33150762, 41431216.50732678],\n",
       "       [41431216.50732678, 28373339.        ]])"
      ]
     },
     "execution_count": 122,
     "metadata": {},
     "output_type": "execute_result"
    }
   ],
   "source": [
    "XTX"
   ]
  },
  {
   "cell_type": "code",
   "execution_count": 123,
   "id": "1ff9d799-6205-4d14-9328-1f54fad80bc5",
   "metadata": {},
   "outputs": [],
   "source": [
    "XTX = np.linalg.inv(XTX)"
   ]
  },
  {
   "cell_type": "code",
   "execution_count": 124,
   "id": "4893c382-44d5-4666-bb86-a089f31ffef0",
   "metadata": {},
   "outputs": [
    {
     "data": {
      "text/plain": [
       "array([[ 5.71497081e-07, -8.34509443e-07],\n",
       "       [-8.34509443e-07,  1.25380877e-06]])"
      ]
     },
     "execution_count": 124,
     "metadata": {},
     "output_type": "execute_result"
    }
   ],
   "source": [
    "XTX"
   ]
  },
  {
   "cell_type": "code",
   "execution_count": 125,
   "id": "9897f4c7-e031-45bc-9883-a32285ab6add",
   "metadata": {},
   "outputs": [],
   "source": [
    "y = np.array([1100, 1300, 800, 900, 1000, 1100, 1200])"
   ]
  },
  {
   "cell_type": "code",
   "execution_count": 127,
   "id": "8402339d-01df-4eb5-a79c-4215e058694e",
   "metadata": {},
   "outputs": [],
   "source": [
    "w = np.dot(np.dot(XTX, XT),y)"
   ]
  },
  {
   "cell_type": "code",
   "execution_count": 128,
   "id": "22babd59-9bac-4e6e-a4be-2f6eb7d87dbd",
   "metadata": {},
   "outputs": [
    {
     "data": {
      "text/plain": [
       "array([0.01386421, 0.5049067 ])"
      ]
     },
     "execution_count": 128,
     "metadata": {},
     "output_type": "execute_result"
    }
   ],
   "source": [
    "w"
   ]
  },
  {
   "cell_type": "code",
   "execution_count": 129,
   "id": "18bf16b1-6079-44c3-9fcf-c4ee8bef9b11",
   "metadata": {},
   "outputs": [
    {
     "data": {
      "text/plain": [
       "np.float64(0.5187709081074007)"
      ]
     },
     "execution_count": 129,
     "metadata": {},
     "output_type": "execute_result"
    }
   ],
   "source": [
    "np.sum(w)"
   ]
  },
  {
   "cell_type": "code",
   "execution_count": null,
   "id": "3c2f33a2-44ca-48ec-84ef-0ef3067eaee7",
   "metadata": {},
   "outputs": [],
   "source": []
  }
 ],
 "metadata": {
  "kernelspec": {
   "display_name": "Python 3 (ipykernel)",
   "language": "python",
   "name": "python3"
  },
  "language_info": {
   "codemirror_mode": {
    "name": "ipython",
    "version": 3
   },
   "file_extension": ".py",
   "mimetype": "text/x-python",
   "name": "python",
   "nbconvert_exporter": "python",
   "pygments_lexer": "ipython3",
   "version": "3.11.13"
  }
 },
 "nbformat": 4,
 "nbformat_minor": 5
}
